{
 "cells": [
  {
   "cell_type": "markdown",
   "id": "124e5672",
   "metadata": {},
   "source": [
    "# Custom Chatbot Project"
   ]
  },
  {
   "cell_type": "markdown",
   "id": "76253511",
   "metadata": {},
   "source": [
    "For this custom chatbot project, I will use Wiki page about 2024 Summer Olympics and answer questions about 2024 summer olympics!\n",
    "\n",
    "We will use GPT-3.5 as our chatbot base model for answering questions. But the information that GPT-3.5 was trained on includes data up to September 2021. This means it does not have knowledge of events, developments, or advancements that have occurred after that date. Consequently, any information or context that has emerged post-September 2021 will not be reflected in its responses.\n",
    "\n",
    "To enable GPT-3.5 answering questions for recent events such as 2024 Summer Olympics, we use the RAG based AI systems which retrives the relevent information from the context, inputs both the question and relevent information into the GPT-3.5 prompt and anwsers the question with the relevent information rather than depending only on the data GPT-3.5 trained on.\n",
    "\n",
    "2024 Summer Olympics happened after September 2021, thus GPT-3.5 does not have information on these events which makes the dataset suitable for using as the input information for RAG. \n",
    "\n",
    "We could ask the following questions:\n",
    "\n",
    "- Which city hosted 2024 Summer Olympics?\n",
    "- When did the opening ceremony start?\n",
    "- Which country had the most metals in 2024 Summer Olympics?\n",
    "- Where was the closing ceremony held?\n",
    "- How many gold medals Japan had?\n",
    "\n"
   ]
  },
  {
   "cell_type": "code",
   "execution_count": 1,
   "id": "4523ef91",
   "metadata": {},
   "outputs": [],
   "source": [
    "import pandas as pd\n",
    "\n",
    "import re\n",
    "\n",
    "import openai\n"
   ]
  },
  {
   "cell_type": "markdown",
   "id": "a63d4c5f",
   "metadata": {},
   "source": [
    "## Data Wrangling\n",
    "\n",
    "In the cells below, load chosen dataset into a `pandas` dataframe with a column named `\"text\"`. This column should contain all text data, separated into at least 20 rows."
   ]
  },
  {
   "cell_type": "code",
   "execution_count": 2,
   "id": "deb1de36",
   "metadata": {},
   "outputs": [],
   "source": [
    "import requests\n",
    "\n",
    "# API endpoint\n",
    "base_url = \"https://en.wikipedia.org/w/api.php\"\n",
    "\n",
    "# Parameters for the request\n",
    "parameters = {\n",
    "    \"action\": \"query\",\n",
    "    \"format\": \"json\",\n",
    "    \"titles\": \"2024 Summer Olympics\",\n",
    "    \"prop\": \"extracts\",\n",
    "    \"explaintext\": True  # Get plain text without HTML\n",
    "}\n",
    "\n",
    "# Make the request\n",
    "response = requests.get(base_url, params=parameters)\n",
    "\n",
    "# Parse the response JSON\n",
    "data = response.json()\n",
    "\n",
    "# Extract the page content\n",
    "page = next(iter(data['query']['pages'].values()))\n",
    "page_content = page.get('extract', 'No content found')\n",
    "\n",
    "# print(page_content)"
   ]
  },
  {
   "cell_type": "code",
   "execution_count": 3,
   "id": "ccc9d858",
   "metadata": {},
   "outputs": [],
   "source": [
    "# Create a dataframe with a text column containing sentences of the wiki page\n",
    "df = pd.DataFrame()\n",
    "sentences = re.split(r'(?<=[.!?]) +', page_content)\n",
    "df[\"text\"] = sentences\n"
   ]
  },
  {
   "cell_type": "code",
   "execution_count": 4,
   "id": "a89e2c34",
   "metadata": {},
   "outputs": [
    {
     "data": {
      "text/plain": [
       "(133, 1)"
      ]
     },
     "execution_count": 4,
     "metadata": {},
     "output_type": "execute_result"
    }
   ],
   "source": [
    "df.shape"
   ]
  },
  {
   "cell_type": "code",
   "execution_count": 5,
   "id": "c7835356",
   "metadata": {},
   "outputs": [
    {
     "data": {
      "text/html": [
       "<div>\n",
       "<style scoped>\n",
       "    .dataframe tbody tr th:only-of-type {\n",
       "        vertical-align: middle;\n",
       "    }\n",
       "\n",
       "    .dataframe tbody tr th {\n",
       "        vertical-align: top;\n",
       "    }\n",
       "\n",
       "    .dataframe thead th {\n",
       "        text-align: right;\n",
       "    }\n",
       "</style>\n",
       "<table border=\"1\" class=\"dataframe\">\n",
       "  <thead>\n",
       "    <tr style=\"text-align: right;\">\n",
       "      <th></th>\n",
       "      <th>text</th>\n",
       "    </tr>\n",
       "  </thead>\n",
       "  <tbody>\n",
       "    <tr>\n",
       "      <th>0</th>\n",
       "      <td>The 2024 Summer Olympics (French: Jeux olympiq...</td>\n",
       "    </tr>\n",
       "    <tr>\n",
       "      <th>1</th>\n",
       "      <td>Paris was the host city, with events (mainly f...</td>\n",
       "    </tr>\n",
       "    <tr>\n",
       "      <th>2</th>\n",
       "      <td>After multiple withdrawals that left only Pari...</td>\n",
       "    </tr>\n",
       "    <tr>\n",
       "      <th>3</th>\n",
       "      <td>Having previously hosted in 1900 and 1924, Par...</td>\n",
       "    </tr>\n",
       "    <tr>\n",
       "      <th>4</th>\n",
       "      <td>Paris 2024 marked the centenary of Paris 1924 ...</td>\n",
       "    </tr>\n",
       "    <tr>\n",
       "      <th>...</th>\n",
       "      <td>...</td>\n",
       "    </tr>\n",
       "    <tr>\n",
       "      <th>128</th>\n",
       "      <td>The artistic director of the ceremony, Thomas ...</td>\n",
       "    </tr>\n",
       "    <tr>\n",
       "      <th>129</th>\n",
       "      <td>Among those who expressed appreciation for the...</td>\n",
       "    </tr>\n",
       "    <tr>\n",
       "      <th>130</th>\n",
       "      <td>According to Georgian fact checking website, M...</td>\n",
       "    </tr>\n",
       "    <tr>\n",
       "      <th>131</th>\n",
       "      <td>Olympics.com.</td>\n",
       "    </tr>\n",
       "    <tr>\n",
       "      <th>132</th>\n",
       "      <td>International Olympic Committee.\\nEuropean Oly...</td>\n",
       "    </tr>\n",
       "  </tbody>\n",
       "</table>\n",
       "<p>133 rows × 1 columns</p>\n",
       "</div>"
      ],
      "text/plain": [
       "                                                  text\n",
       "0    The 2024 Summer Olympics (French: Jeux olympiq...\n",
       "1    Paris was the host city, with events (mainly f...\n",
       "2    After multiple withdrawals that left only Pari...\n",
       "3    Having previously hosted in 1900 and 1924, Par...\n",
       "4    Paris 2024 marked the centenary of Paris 1924 ...\n",
       "..                                                 ...\n",
       "128  The artistic director of the ceremony, Thomas ...\n",
       "129  Among those who expressed appreciation for the...\n",
       "130  According to Georgian fact checking website, M...\n",
       "131                                      Olympics.com.\n",
       "132  International Olympic Committee.\\nEuropean Oly...\n",
       "\n",
       "[133 rows x 1 columns]"
      ]
     },
     "execution_count": 5,
     "metadata": {},
     "output_type": "execute_result"
    }
   ],
   "source": [
    "df"
   ]
  },
  {
   "cell_type": "code",
   "execution_count": 6,
   "id": "cdec829f",
   "metadata": {
    "scrolled": false
   },
   "outputs": [],
   "source": [
    "# keep the rows that has more than 20 characters\n",
    "df = df[df[\"text\"].str.len() > 20]"
   ]
  },
  {
   "cell_type": "code",
   "execution_count": 7,
   "id": "3a621270",
   "metadata": {},
   "outputs": [
    {
     "data": {
      "text/plain": [
       "(131, 1)"
      ]
     },
     "execution_count": 7,
     "metadata": {},
     "output_type": "execute_result"
    }
   ],
   "source": [
    "df.shape"
   ]
  },
  {
   "cell_type": "code",
   "execution_count": 8,
   "id": "6065aac8",
   "metadata": {},
   "outputs": [
    {
     "data": {
      "text/html": [
       "<div>\n",
       "<style scoped>\n",
       "    .dataframe tbody tr th:only-of-type {\n",
       "        vertical-align: middle;\n",
       "    }\n",
       "\n",
       "    .dataframe tbody tr th {\n",
       "        vertical-align: top;\n",
       "    }\n",
       "\n",
       "    .dataframe thead th {\n",
       "        text-align: right;\n",
       "    }\n",
       "</style>\n",
       "<table border=\"1\" class=\"dataframe\">\n",
       "  <thead>\n",
       "    <tr style=\"text-align: right;\">\n",
       "      <th></th>\n",
       "      <th>text</th>\n",
       "    </tr>\n",
       "  </thead>\n",
       "  <tbody>\n",
       "  </tbody>\n",
       "</table>\n",
       "</div>"
      ],
      "text/plain": [
       "Empty DataFrame\n",
       "Columns: [text]\n",
       "Index: []"
      ]
     },
     "execution_count": 8,
     "metadata": {},
     "output_type": "execute_result"
    }
   ],
   "source": [
    "# check if the section name is still there\n",
    "df[df[\"text\"].str.startswith(\"==\")]"
   ]
  },
  {
   "cell_type": "code",
   "execution_count": 9,
   "id": "0a04000e",
   "metadata": {},
   "outputs": [
    {
     "data": {
      "text/html": [
       "<div>\n",
       "<style scoped>\n",
       "    .dataframe tbody tr th:only-of-type {\n",
       "        vertical-align: middle;\n",
       "    }\n",
       "\n",
       "    .dataframe tbody tr th {\n",
       "        vertical-align: top;\n",
       "    }\n",
       "\n",
       "    .dataframe thead th {\n",
       "        text-align: right;\n",
       "    }\n",
       "</style>\n",
       "<table border=\"1\" class=\"dataframe\">\n",
       "  <thead>\n",
       "    <tr style=\"text-align: right;\">\n",
       "      <th></th>\n",
       "      <th>text</th>\n",
       "    </tr>\n",
       "  </thead>\n",
       "  <tbody>\n",
       "    <tr>\n",
       "      <th>0</th>\n",
       "      <td>The 2024 Summer Olympics (French: Jeux olympiq...</td>\n",
       "    </tr>\n",
       "    <tr>\n",
       "      <th>1</th>\n",
       "      <td>Paris was the host city, with events (mainly f...</td>\n",
       "    </tr>\n",
       "    <tr>\n",
       "      <th>2</th>\n",
       "      <td>After multiple withdrawals that left only Pari...</td>\n",
       "    </tr>\n",
       "    <tr>\n",
       "      <th>3</th>\n",
       "      <td>Having previously hosted in 1900 and 1924, Par...</td>\n",
       "    </tr>\n",
       "    <tr>\n",
       "      <th>4</th>\n",
       "      <td>Paris 2024 marked the centenary of Paris 1924 ...</td>\n",
       "    </tr>\n",
       "  </tbody>\n",
       "</table>\n",
       "</div>"
      ],
      "text/plain": [
       "                                                text\n",
       "0  The 2024 Summer Olympics (French: Jeux olympiq...\n",
       "1  Paris was the host city, with events (mainly f...\n",
       "2  After multiple withdrawals that left only Pari...\n",
       "3  Having previously hosted in 1900 and 1924, Par...\n",
       "4  Paris 2024 marked the centenary of Paris 1924 ..."
      ]
     },
     "execution_count": 9,
     "metadata": {},
     "output_type": "execute_result"
    }
   ],
   "source": [
    "df.head()"
   ]
  },
  {
   "cell_type": "code",
   "execution_count": 10,
   "id": "d1d8c131",
   "metadata": {},
   "outputs": [
    {
     "data": {
      "text/html": [
       "<div>\n",
       "<style scoped>\n",
       "    .dataframe tbody tr th:only-of-type {\n",
       "        vertical-align: middle;\n",
       "    }\n",
       "\n",
       "    .dataframe tbody tr th {\n",
       "        vertical-align: top;\n",
       "    }\n",
       "\n",
       "    .dataframe thead th {\n",
       "        text-align: right;\n",
       "    }\n",
       "</style>\n",
       "<table border=\"1\" class=\"dataframe\">\n",
       "  <thead>\n",
       "    <tr style=\"text-align: right;\">\n",
       "      <th></th>\n",
       "      <th>text</th>\n",
       "    </tr>\n",
       "  </thead>\n",
       "  <tbody>\n",
       "    <tr>\n",
       "      <th>127</th>\n",
       "      <td>While there is nominally an Olympic Truce in p...</td>\n",
       "    </tr>\n",
       "    <tr>\n",
       "      <th>128</th>\n",
       "      <td>The artistic director of the ceremony, Thomas ...</td>\n",
       "    </tr>\n",
       "    <tr>\n",
       "      <th>129</th>\n",
       "      <td>Among those who expressed appreciation for the...</td>\n",
       "    </tr>\n",
       "    <tr>\n",
       "      <th>130</th>\n",
       "      <td>According to Georgian fact checking website, M...</td>\n",
       "    </tr>\n",
       "    <tr>\n",
       "      <th>132</th>\n",
       "      <td>International Olympic Committee.\\nEuropean Oly...</td>\n",
       "    </tr>\n",
       "  </tbody>\n",
       "</table>\n",
       "</div>"
      ],
      "text/plain": [
       "                                                  text\n",
       "127  While there is nominally an Olympic Truce in p...\n",
       "128  The artistic director of the ceremony, Thomas ...\n",
       "129  Among those who expressed appreciation for the...\n",
       "130  According to Georgian fact checking website, M...\n",
       "132  International Olympic Committee.\\nEuropean Oly..."
      ]
     },
     "execution_count": 10,
     "metadata": {},
     "output_type": "execute_result"
    }
   ],
   "source": [
    "df.tail()"
   ]
  },
  {
   "cell_type": "code",
   "execution_count": 11,
   "id": "73606816",
   "metadata": {},
   "outputs": [],
   "source": [
    "# reset index for df\n",
    "df.reset_index(inplace=True, drop=True)"
   ]
  },
  {
   "cell_type": "markdown",
   "id": "ae769871",
   "metadata": {},
   "source": [
    "## Custom Query Completion\n",
    "\n",
    "TIn the cells below, compose a custom query using chosen dataset and retrieve results from an OpenAI `Completion` model. "
   ]
  },
  {
   "cell_type": "markdown",
   "id": "747ca00d",
   "metadata": {},
   "source": [
    "### Obtain embeddings for the 2024 Summer Olympic dataset"
   ]
  },
  {
   "cell_type": "code",
   "execution_count": 12,
   "id": "8e6fa30a",
   "metadata": {},
   "outputs": [],
   "source": [
    "# load openai and key\n",
    "openai.api_base = \"https://openai.vocareum.com/v1\"\n",
    "openai.api_key = \"YOUR API KEY\""
   ]
  },
  {
   "cell_type": "code",
   "execution_count": 13,
   "id": "582f0656",
   "metadata": {},
   "outputs": [],
   "source": [
    "# get embeddings of text from df from the following model name\n",
    "\n",
    "EMBEDDING_MODEL_NAME = \"text-embedding-ada-002\"\n",
    "\n",
    "response = openai.Embedding.create(\n",
    "    input=df[\"text\"].tolist(),\n",
    "    model=EMBEDDING_MODEL_NAME\n",
    ")"
   ]
  },
  {
   "cell_type": "code",
   "execution_count": 14,
   "id": "8b6e1f75",
   "metadata": {},
   "outputs": [
    {
     "data": {
      "text/plain": [
       "dict_keys(['object', 'data', 'model', 'usage'])"
      ]
     },
     "execution_count": 14,
     "metadata": {},
     "output_type": "execute_result"
    }
   ],
   "source": [
    "response.keys()"
   ]
  },
  {
   "cell_type": "code",
   "execution_count": 15,
   "id": "74280b92",
   "metadata": {},
   "outputs": [
    {
     "data": {
      "text/plain": [
       "1536"
      ]
     },
     "execution_count": 15,
     "metadata": {},
     "output_type": "execute_result"
    }
   ],
   "source": [
    "len(response['data'][2]['embedding'])"
   ]
  },
  {
   "cell_type": "code",
   "execution_count": 16,
   "id": "09e24263",
   "metadata": {},
   "outputs": [],
   "source": [
    "embeddings = [data['embedding'] for data in response[\"data\"]]"
   ]
  },
  {
   "cell_type": "code",
   "execution_count": 23,
   "id": "380dbabd",
   "metadata": {},
   "outputs": [
    {
     "name": "stderr",
     "output_type": "stream",
     "text": [
      "/tmp/ipykernel_156/2801029913.py:1: SettingWithCopyWarning: \n",
      "A value is trying to be set on a copy of a slice from a DataFrame.\n",
      "Try using .loc[row_indexer,col_indexer] = value instead\n",
      "\n",
      "See the caveats in the documentation: https://pandas.pydata.org/pandas-docs/stable/user_guide/indexing.html#returning-a-view-versus-a-copy\n",
      "  df[\"embeddings\"] = embeddings\n"
     ]
    }
   ],
   "source": [
    "df[\"embeddings\"] = embeddings"
   ]
  },
  {
   "cell_type": "code",
   "execution_count": 24,
   "id": "8c9e8282",
   "metadata": {},
   "outputs": [
    {
     "data": {
      "text/html": [
       "<div>\n",
       "<style scoped>\n",
       "    .dataframe tbody tr th:only-of-type {\n",
       "        vertical-align: middle;\n",
       "    }\n",
       "\n",
       "    .dataframe tbody tr th {\n",
       "        vertical-align: top;\n",
       "    }\n",
       "\n",
       "    .dataframe thead th {\n",
       "        text-align: right;\n",
       "    }\n",
       "</style>\n",
       "<table border=\"1\" class=\"dataframe\">\n",
       "  <thead>\n",
       "    <tr style=\"text-align: right;\">\n",
       "      <th></th>\n",
       "      <th>text</th>\n",
       "      <th>embeddings</th>\n",
       "    </tr>\n",
       "  </thead>\n",
       "  <tbody>\n",
       "    <tr>\n",
       "      <th>0</th>\n",
       "      <td>The 2024 Summer Olympics (French: Jeux olympiq...</td>\n",
       "      <td>[-0.008732384070754051, -0.0021369855385273695...</td>\n",
       "    </tr>\n",
       "    <tr>\n",
       "      <th>1</th>\n",
       "      <td>Paris was the host city, with events (mainly f...</td>\n",
       "      <td>[0.009677358902990818, 0.007114940322935581, 0...</td>\n",
       "    </tr>\n",
       "    <tr>\n",
       "      <th>2</th>\n",
       "      <td>After multiple withdrawals that left only Pari...</td>\n",
       "      <td>[0.010585588403046131, -0.0005463769193738699,...</td>\n",
       "    </tr>\n",
       "    <tr>\n",
       "      <th>3</th>\n",
       "      <td>Having previously hosted in 1900 and 1924, Par...</td>\n",
       "      <td>[0.015574367716908455, -0.012037031352519989, ...</td>\n",
       "    </tr>\n",
       "    <tr>\n",
       "      <th>4</th>\n",
       "      <td>Paris 2024 marked the centenary of Paris 1924 ...</td>\n",
       "      <td>[0.005231217481195927, -0.0089668994769454, -0...</td>\n",
       "    </tr>\n",
       "    <tr>\n",
       "      <th>...</th>\n",
       "      <td>...</td>\n",
       "      <td>...</td>\n",
       "    </tr>\n",
       "    <tr>\n",
       "      <th>126</th>\n",
       "      <td>While there is nominally an Olympic Truce in p...</td>\n",
       "      <td>[-0.0018343077972531319, -0.014580567367374897...</td>\n",
       "    </tr>\n",
       "    <tr>\n",
       "      <th>127</th>\n",
       "      <td>The artistic director of the ceremony, Thomas ...</td>\n",
       "      <td>[-0.007993845269083977, -0.019081221893429756,...</td>\n",
       "    </tr>\n",
       "    <tr>\n",
       "      <th>128</th>\n",
       "      <td>Among those who expressed appreciation for the...</td>\n",
       "      <td>[-0.0131845036521554, -0.008254049345850945, -...</td>\n",
       "    </tr>\n",
       "    <tr>\n",
       "      <th>129</th>\n",
       "      <td>According to Georgian fact checking website, M...</td>\n",
       "      <td>[0.012646778486669064, 0.01000780425965786, -0...</td>\n",
       "    </tr>\n",
       "    <tr>\n",
       "      <th>130</th>\n",
       "      <td>International Olympic Committee.\\nEuropean Oly...</td>\n",
       "      <td>[-0.000785415933933109, -0.00945799145847559, ...</td>\n",
       "    </tr>\n",
       "  </tbody>\n",
       "</table>\n",
       "<p>131 rows × 2 columns</p>\n",
       "</div>"
      ],
      "text/plain": [
       "                                                  text  \\\n",
       "0    The 2024 Summer Olympics (French: Jeux olympiq...   \n",
       "1    Paris was the host city, with events (mainly f...   \n",
       "2    After multiple withdrawals that left only Pari...   \n",
       "3    Having previously hosted in 1900 and 1924, Par...   \n",
       "4    Paris 2024 marked the centenary of Paris 1924 ...   \n",
       "..                                                 ...   \n",
       "126  While there is nominally an Olympic Truce in p...   \n",
       "127  The artistic director of the ceremony, Thomas ...   \n",
       "128  Among those who expressed appreciation for the...   \n",
       "129  According to Georgian fact checking website, M...   \n",
       "130  International Olympic Committee.\\nEuropean Oly...   \n",
       "\n",
       "                                            embeddings  \n",
       "0    [-0.008732384070754051, -0.0021369855385273695...  \n",
       "1    [0.009677358902990818, 0.007114940322935581, 0...  \n",
       "2    [0.010585588403046131, -0.0005463769193738699,...  \n",
       "3    [0.015574367716908455, -0.012037031352519989, ...  \n",
       "4    [0.005231217481195927, -0.0089668994769454, -0...  \n",
       "..                                                 ...  \n",
       "126  [-0.0018343077972531319, -0.014580567367374897...  \n",
       "127  [-0.007993845269083977, -0.019081221893429756,...  \n",
       "128  [-0.0131845036521554, -0.008254049345850945, -...  \n",
       "129  [0.012646778486669064, 0.01000780425965786, -0...  \n",
       "130  [-0.000785415933933109, -0.00945799145847559, ...  \n",
       "\n",
       "[131 rows x 2 columns]"
      ]
     },
     "execution_count": 24,
     "metadata": {},
     "output_type": "execute_result"
    }
   ],
   "source": [
    "df"
   ]
  },
  {
   "cell_type": "code",
   "execution_count": 19,
   "id": "08dce240",
   "metadata": {},
   "outputs": [],
   "source": [
    "df.to_csv('embeddings.csv')"
   ]
  },
  {
   "cell_type": "markdown",
   "id": "86c343d8",
   "metadata": {},
   "source": [
    "### Embedding the question and finding the relevant data in the dataset using cosine similarity"
   ]
  },
  {
   "cell_type": "code",
   "execution_count": 20,
   "id": "550a1a1e",
   "metadata": {},
   "outputs": [],
   "source": [
    "from openai.embeddings_utils import get_embedding, distances_from_embeddings\n",
    "\n",
    "def get_rows_sorted_by_relevance(question, df):\n",
    "    \"\"\"\n",
    "    Function that takes in a question string and a dataframe containing\n",
    "    rows of text and associated embeddings, and returns that dataframe\n",
    "    sorted from least to most relevant for that question\n",
    "    \"\"\"\n",
    "    \n",
    "    # Get embeddings for the question text\n",
    "    question_embeddings = get_embedding(question, engine=EMBEDDING_MODEL_NAME)\n",
    "    \n",
    "    # Make a copy of the dataframe and add a \"distances\" column containing\n",
    "    # the cosine distances between each row's embeddings and the\n",
    "    # embeddings of the question\n",
    "    df_copy = df.copy()\n",
    "    df_copy[\"distances\"] = distances_from_embeddings(\n",
    "        question_embeddings,\n",
    "        df_copy[\"embeddings\"].values,\n",
    "        distance_metric=\"cosine\"\n",
    "    )\n",
    "    \n",
    "    # Sort the copied dataframe by the distances and return it\n",
    "    # (shorter distance = more relevant so we sort in ascending order)\n",
    "    df_copy.sort_values(\"distances\", ascending=True, inplace=True)\n",
    "    return df_copy\n",
    "    \n"
   ]
  },
  {
   "cell_type": "code",
   "execution_count": 25,
   "id": "82654a08",
   "metadata": {},
   "outputs": [
    {
     "data": {
      "text/html": [
       "<div>\n",
       "<style scoped>\n",
       "    .dataframe tbody tr th:only-of-type {\n",
       "        vertical-align: middle;\n",
       "    }\n",
       "\n",
       "    .dataframe tbody tr th {\n",
       "        vertical-align: top;\n",
       "    }\n",
       "\n",
       "    .dataframe thead th {\n",
       "        text-align: right;\n",
       "    }\n",
       "</style>\n",
       "<table border=\"1\" class=\"dataframe\">\n",
       "  <thead>\n",
       "    <tr style=\"text-align: right;\">\n",
       "      <th></th>\n",
       "      <th>text</th>\n",
       "      <th>embeddings</th>\n",
       "      <th>distances</th>\n",
       "    </tr>\n",
       "  </thead>\n",
       "  <tbody>\n",
       "    <tr>\n",
       "      <th>0</th>\n",
       "      <td>The 2024 Summer Olympics (French: Jeux olympiq...</td>\n",
       "      <td>[-0.008732384070754051, -0.0021369855385273695...</td>\n",
       "      <td>0.130693</td>\n",
       "    </tr>\n",
       "    <tr>\n",
       "      <th>28</th>\n",
       "      <td>On 31 July 2017, the IOC announced Los Angeles...</td>\n",
       "      <td>[0.01342105958610773, -0.0021386248990893364, ...</td>\n",
       "      <td>0.133882</td>\n",
       "    </tr>\n",
       "    <tr>\n",
       "      <th>26</th>\n",
       "      <td>The International Olympic Committee formally p...</td>\n",
       "      <td>[0.017240140587091446, -0.018078293651342392, ...</td>\n",
       "      <td>0.133952</td>\n",
       "    </tr>\n",
       "    <tr>\n",
       "      <th>2</th>\n",
       "      <td>After multiple withdrawals that left only Pari...</td>\n",
       "      <td>[0.010585588403046131, -0.0005463769193738699,...</td>\n",
       "      <td>0.137379</td>\n",
       "    </tr>\n",
       "    <tr>\n",
       "      <th>3</th>\n",
       "      <td>Having previously hosted in 1900 and 1924, Par...</td>\n",
       "      <td>[0.015574367716908455, -0.012037031352519989, ...</td>\n",
       "      <td>0.138159</td>\n",
       "    </tr>\n",
       "  </tbody>\n",
       "</table>\n",
       "</div>"
      ],
      "text/plain": [
       "                                                 text  \\\n",
       "0   The 2024 Summer Olympics (French: Jeux olympiq...   \n",
       "28  On 31 July 2017, the IOC announced Los Angeles...   \n",
       "26  The International Olympic Committee formally p...   \n",
       "2   After multiple withdrawals that left only Pari...   \n",
       "3   Having previously hosted in 1900 and 1924, Par...   \n",
       "\n",
       "                                           embeddings  distances  \n",
       "0   [-0.008732384070754051, -0.0021369855385273695...   0.130693  \n",
       "28  [0.01342105958610773, -0.0021386248990893364, ...   0.133882  \n",
       "26  [0.017240140587091446, -0.018078293651342392, ...   0.133952  \n",
       "2   [0.010585588403046131, -0.0005463769193738699,...   0.137379  \n",
       "3   [0.015574367716908455, -0.012037031352519989, ...   0.138159  "
      ]
     },
     "execution_count": 25,
     "metadata": {},
     "output_type": "execute_result"
    }
   ],
   "source": [
    "question = \"Which country hosted 2024 Summer Olympics\"\n",
    "get_rows_sorted_by_relevance(question, df).head()"
   ]
  },
  {
   "cell_type": "markdown",
   "id": "889b6acc",
   "metadata": {},
   "source": [
    "### Compose a Custom Prompt"
   ]
  },
  {
   "cell_type": "code",
   "execution_count": 26,
   "id": "31035cef",
   "metadata": {},
   "outputs": [],
   "source": [
    "# count tokens\n",
    "import tiktoken\n",
    "\n",
    "\n",
    "def create_prompt(question, df, max_token_count):\n",
    "    \"\"\"\n",
    "    Given a question and a dataframe containing rows of text and their\n",
    "    embeddings, return a text prompt to send to a Completion model\n",
    "    \"\"\"\n",
    "    # Create a tokenizer that is designed to align with our embeddings\n",
    "    tokenizer = tiktoken.get_encoding(\"cl100k_base\")\n",
    "\n",
    "    # Count the number of tokens in the prompt template and question\n",
    "    prompt_template = \"\"\"\n",
    "Answer the question based on the context below, and if the question\n",
    "can't be answered based on the context, say \"I don't know\"\n",
    "\n",
    "Context: \n",
    "\n",
    "{}\n",
    "\n",
    "---\n",
    "\n",
    "Question: {}\n",
    "Answer:\"\"\"\n",
    "\n",
    "    current_token_count = len(tokenizer.encode(prompt_template)) + \\\n",
    "                            len(tokenizer.encode(question))\n",
    "\n",
    "    context = []\n",
    "    for text in get_rows_sorted_by_relevance(question, df)[\"text\"].values:\n",
    "\n",
    "        # Increase the counter based on the number of tokens in this row\n",
    "        text_token_count = len(tokenizer.encode(text))\n",
    "        current_token_count += text_token_count\n",
    "\n",
    "        # Add the row of text to the list if we haven't exceeded the max\n",
    "        if current_token_count <= max_token_count:\n",
    "            context.append(text)\n",
    "        else:\n",
    "            break\n",
    "\n",
    "    return prompt_template.format(\"\\n\\n###\\n\\n\".join(context), question)"
   ]
  },
  {
   "cell_type": "code",
   "execution_count": 27,
   "id": "7d074bd2",
   "metadata": {},
   "outputs": [
    {
     "name": "stdout",
     "output_type": "stream",
     "text": [
      "\n",
      "Answer the question based on the context below, and if the question\n",
      "can't be answered based on the context, say \"I don't know\"\n",
      "\n",
      "Context: \n",
      "\n",
      "After multiple withdrawals that left only Paris and Los Angeles in contention, the International Olympic Committee (IOC) approved a process to concurrently award the 2024 and 2028 Summer Olympics to the two remaining candidate cities; both bids were praised for their high technical plans and innovative ways to use a record-breaking number of existing and temporary facilities.\n",
      "\n",
      "###\n",
      "\n",
      "The IOC set up a process whereby the LA 2024 and Paris 2024 bid committees met with the IOC to discuss which city would host the Games in 2024 and 2028 and whether it was possible to select the host cities for both at the same time.\n",
      "Following the decision to award the two Games simultaneously, Paris was understood to be the preferred host for 2024.\n",
      "\n",
      "---\n",
      "\n",
      "Question: Which city hosted 2024 Summer Olympics?\n",
      "Answer:\n"
     ]
    }
   ],
   "source": [
    "print(create_prompt(\"Which city hosted 2024 Summer Olympics?\", df, 200))"
   ]
  },
  {
   "cell_type": "markdown",
   "id": "e14e517a",
   "metadata": {},
   "source": [
    "### Create a function that answers a question"
   ]
  },
  {
   "cell_type": "code",
   "execution_count": 28,
   "id": "9e3e2df9",
   "metadata": {},
   "outputs": [],
   "source": [
    "COMPLETION_MODEL_NAME = \"gpt-3.5-turbo-instruct\"\n",
    "\n",
    "def answer_question(\n",
    "    question, df, max_prompt_tokens=1800, max_answer_tokens=150\n",
    "):\n",
    "    \"\"\"\n",
    "    Given a question, a dataframe containing rows of text, and a maximum\n",
    "    number of desired tokens in the prompt and response, return the\n",
    "    answer to the question according to an OpenAI Completion model\n",
    "    \n",
    "    If the model produces an error, return an empty string\n",
    "    \"\"\"\n",
    "    \n",
    "    prompt = create_prompt(question, df, max_prompt_tokens)\n",
    "    \n",
    "    try:\n",
    "        response = openai.Completion.create(\n",
    "            model=COMPLETION_MODEL_NAME,\n",
    "            prompt=prompt,\n",
    "            max_tokens=max_answer_tokens\n",
    "        )\n",
    "        return response[\"choices\"][0][\"text\"].strip()\n",
    "    except Exception as e:\n",
    "        print(e)\n",
    "        return \"\"\n",
    "        "
   ]
  },
  {
   "cell_type": "code",
   "execution_count": 29,
   "id": "6fc87c12",
   "metadata": {},
   "outputs": [
    {
     "name": "stdout",
     "output_type": "stream",
     "text": [
      "Paris\n"
     ]
    }
   ],
   "source": [
    "custom_2024olympics_answer = answer_question(\"Which city hosted 2024 Summer Olympics?\", df)\n",
    "print(custom_2024olympics_answer)"
   ]
  },
  {
   "cell_type": "markdown",
   "id": "1783f146",
   "metadata": {},
   "source": [
    "## Custom Performance Demonstration\n",
    "\n",
    "TODO: In the cells below, demonstrate the performance of your custom query using at least 2 questions. For each question, show the answer from a basic `Completion` model query as well as the answer from your custom query."
   ]
  },
  {
   "cell_type": "code",
   "execution_count": 30,
   "id": "a7006972",
   "metadata": {},
   "outputs": [],
   "source": [
    "# Create a function that answers the question without context\n",
    "\n",
    "def answer_question_initial(\n",
    "    question, max_prompt_tokens=1800, max_answer_tokens=150\n",
    "):\n",
    "    \"\"\"\n",
    "    Given a question, return the answer to the question according to an OpenAI Completion model\n",
    "    \n",
    "    If the model produces an error, return an empty string\n",
    "    \"\"\"\n",
    "    \n",
    "    prompt_template = \"\"\"\n",
    "\n",
    "Question: {}\n",
    "Answer:\"\"\"\n",
    "    \n",
    "    prompt = prompt_template.format(question)\n",
    "    \n",
    "    try:\n",
    "        response = openai.Completion.create(\n",
    "            model=COMPLETION_MODEL_NAME,\n",
    "            prompt=prompt,\n",
    "            max_tokens=max_answer_tokens\n",
    "        )\n",
    "        return response[\"choices\"][0][\"text\"].strip()\n",
    "    except Exception as e:\n",
    "        print(e)\n",
    "        return \"\""
   ]
  },
  {
   "cell_type": "markdown",
   "id": "4f11fdc0",
   "metadata": {},
   "source": [
    "### Question 1: When did the opening ceremony start for 2024 Summer Olympics?"
   ]
  },
  {
   "cell_type": "code",
   "execution_count": 31,
   "id": "bd7a093b",
   "metadata": {},
   "outputs": [
    {
     "name": "stdout",
     "output_type": "stream",
     "text": [
      "Answer from the initial model: \n",
      "The opening ceremony for the 2024 Summer Olympics is scheduled to start on July 26, 2024.\n",
      "\n",
      "Answer from the custom model: \n",
      "The opening ceremony began at 19:30 CEST (17:30 GMT) on 26 July 2024.\n"
     ]
    }
   ],
   "source": [
    "question1 = \"When did the opening ceremony start for 2024 Summer Olympics?\"\n",
    "\n",
    "answer_initial = answer_question_initial(\n",
    "    question1, max_prompt_tokens=1800, max_answer_tokens=150\n",
    ")\n",
    "answer_custom = answer_question(\n",
    "    question1, df, max_prompt_tokens=1800, max_answer_tokens=150\n",
    ")\n",
    "\n",
    "print(f\"Answer from the initial model: \\n{answer_initial }\\n\")\n",
    "print(f\"Answer from the custom model: \\n{answer_custom }\")"
   ]
  },
  {
   "cell_type": "markdown",
   "id": "6e86e37c",
   "metadata": {},
   "source": [
    "### Question 2"
   ]
  },
  {
   "cell_type": "code",
   "execution_count": 32,
   "id": "6f646989",
   "metadata": {},
   "outputs": [
    {
     "name": "stdout",
     "output_type": "stream",
     "text": [
      "Answer from the initial model: \n",
      "Paris, France.\n",
      "\n",
      "Answer from the custom model: \n",
      "Paris\n"
     ]
    }
   ],
   "source": [
    "question2 = \"Which city hosted 2024 Summer Olympics?\"\n",
    "\n",
    "answer_initial2 = answer_question_initial(\n",
    "    question2, max_prompt_tokens=1800, max_answer_tokens=150\n",
    ")\n",
    "\n",
    "answer_custom2 = answer_question(\n",
    "    question2, df, max_prompt_tokens=1800, max_answer_tokens=150\n",
    ")\n",
    "\n",
    "print(f\"Answer from the initial model: \\n{answer_initial2 }\\n\")\n",
    "print(f\"Answer from the custom model: \\n{answer_custom2 }\")"
   ]
  },
  {
   "cell_type": "markdown",
   "id": "224c1d30",
   "metadata": {},
   "source": [
    "## Allow user input to ask questions"
   ]
  },
  {
   "cell_type": "code",
   "execution_count": 33,
   "id": "91c39ef5",
   "metadata": {},
   "outputs": [
    {
     "name": "stdout",
     "output_type": "stream",
     "text": [
      "Type question (type Enter to submit the question, type 'stop' to quit):Which country had the most metals in 2024 Summer Olympics?\n",
      "Question: Which country had the most metals in 2024 Summer Olympics?\n",
      "\n",
      "Inital answer without context: As of now, it is impossible to determine which country will have the most medals in the 2024 Summer Olympics as the event has yet to take place. However, based on statistics and past performances, countries like the United States, China, and Russia are often top contenders for the most medals.\n",
      "\n",
      "Custom answer with context: The United States had the most total medals with 126, and the most gold medals with 40.\n",
      "-------------------------------------------------------\n",
      "\n",
      "Type question (type Enter to submit the question, type 'stop' to quit):Where was the closing ceremony held?\n",
      "Question: Where was the closing ceremony held?\n",
      "\n",
      "Inital answer without context: The closing ceremony was held in Tokyo, Japan.\n",
      "\n",
      "Custom answer with context: The closing ceremony was held at Stade de France in Paris.\n",
      "-------------------------------------------------------\n",
      "\n",
      "Type question (type Enter to submit the question, type 'stop' to quit):How many gold medals Japan had?\n",
      "Question: How many gold medals Japan had?\n",
      "\n",
      "Inital answer without context: Japan had 27 gold medals.\n",
      "\n",
      "Custom answer with context: Japan finished third with 20 gold medals.\n",
      "-------------------------------------------------------\n",
      "\n",
      "Type question (type Enter to submit the question, type 'stop' to quit):stop\n"
     ]
    }
   ],
   "source": [
    "# to end the conversation, type stop\n",
    "while True:\n",
    "  question = input(\"Type question (type Enter to submit the question, type 'stop' to quit):\")\n",
    "  if question == \"stop\":\n",
    "    break\n",
    "  initial_answer = answer_question_initial(question)\n",
    "  custom_answer = answer_question(question, df)\n",
    "  print(f\"Question: {question}\\n\")\n",
    "  print(f\"Inital answer without context: {initial_answer}\\n\")\n",
    "  print(f\"Custom answer with context: {custom_answer}\")\n",
    "  print('-------------------------------------------------------\\n')\n",
    "\n",
    "  "
   ]
  },
  {
   "cell_type": "code",
   "execution_count": null,
   "id": "80b94f6c",
   "metadata": {},
   "outputs": [],
   "source": []
  }
 ],
 "metadata": {
  "kernelspec": {
   "display_name": "Python 3 (ipykernel)",
   "language": "python",
   "name": "python3"
  },
  "language_info": {
   "codemirror_mode": {
    "name": "ipython",
    "version": 3
   },
   "file_extension": ".py",
   "mimetype": "text/x-python",
   "name": "python",
   "nbconvert_exporter": "python",
   "pygments_lexer": "ipython3",
   "version": "3.9.18"
  }
 },
 "nbformat": 4,
 "nbformat_minor": 5
}
